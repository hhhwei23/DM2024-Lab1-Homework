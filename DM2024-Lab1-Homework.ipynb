{
 "cells": [
  {
   "cell_type": "markdown",
   "metadata": {},
   "source": [
    "### Student Information\n",
    "Name: 黃為翰 \n",
    "\n",
    "Student ID: 113065508\n",
    "\n",
    "GitHub ID:  hhhwei23"
   ]
  },
  {
   "cell_type": "markdown",
   "metadata": {},
   "source": [
    "---"
   ]
  },
  {
   "cell_type": "markdown",
   "metadata": {},
   "source": [
    "### Instructions"
   ]
  },
  {
   "cell_type": "markdown",
   "metadata": {},
   "source": [
    "1. First: do the **take home** exercises in the [DM2024-Lab1-Master](https://github.com/didiersalazar/DM2024-Lab1-Master.git). You may need to copy some cells from the Lab notebook to this notebook. __This part is worth 20% of your grade.__\n",
    "\n",
    "\n",
    "2. Second: follow the same process from the [DM2024-Lab1-Master](https://github.com/didiersalazar/DM2024-Lab1-Master.git) on **the new dataset**. You don't need to explain all details as we did (some **minimal comments** explaining your code are useful though).  __This part is worth 30% of your grade.__\n",
    "    - Download the [the new dataset](https://huggingface.co/datasets/Senem/Nostalgic_Sentiment_Analysis_of_YouTube_Comments_Data). The dataset contains a `sentiment` and `comment` columns, with the sentiment labels being: 'nostalgia' and 'not nostalgia'. Read the specificiations of the dataset for background details. \n",
    "    - You are allowed to use and modify the `helper` functions in the folder of the first lab session (notice they may need modification) or create your own.\n",
    "\n",
    "\n",
    "3. Third: please attempt the following tasks on **the new dataset**. __This part is worth 30% of your grade.__\n",
    "    - Generate meaningful **new data visualizations**. Refer to online resources and the Data Mining textbook for inspiration and ideas. \n",
    "    - Generate **TF-IDF features** from the tokens of each text. This will generating a document matrix, however, the weights will be computed differently (using the TF-IDF value of each word per document as opposed to the word frequency). Refer to this Scikit-learn [guide](http://scikit-learn.org/stable/modules/generated/sklearn.feature_extraction.text.TfidfVectorizer.html) .\n",
    "    - Implement a simple **Naive Bayes classifier** that automatically classifies the records into their categories. Use both the TF-IDF features and word frequency features to build two seperate classifiers. Note that for the TF-IDF features you might need to use other type of NB classifier different than the one in the Master Notebook. Comment on the differences.  Refer to this [article](https://hub.packtpub.com/implementing-3-naive-bayes-classifiers-in-scikit-learn/).\n",
    "\n",
    "\n",
    "4. Fourth: In the lab, we applied each step really quickly just to illustrate how to work with your dataset. There are somethings that are not ideal or the most efficient/meaningful. Each dataset can be handled differently as well. What are those inefficent parts you noticed? How can you improve the Data preprocessing for these specific datasets? __This part is worth 10% of your grade.__\n",
    "\n",
    "\n",
    "5. Fifth: It's hard for us to follow if your code is messy, so please **tidy up your notebook** and **add minimal comments where needed**. __This part is worth 10% of your grade.__\n",
    "\n",
    "\n",
    "You can submit your homework following these guidelines: [Git Intro & How to hand your homework](https://github.com/didiersalazar/DM2024-Lab1-Master/blob/main/Git%20Intro%20%26%20How%20to%20hand%20your%20homework.ipynb). Make sure to commit and save your changes to your repository __BEFORE the deadline (October 27th 11:59 pm, Sunday)__. "
   ]
  },
  {
   "cell_type": "code",
   "execution_count": 33,
   "metadata": {},
   "outputs": [],
   "source": [
    "### Begin Assignment Here"
   ]
  },
  {
   "cell_type": "markdown",
   "metadata": {},
   "source": [
    "### Loading Dataset"
   ]
  },
  {
   "cell_type": "code",
   "execution_count": 34,
   "metadata": {},
   "outputs": [
    {
     "name": "stdout",
     "output_type": "stream",
     "text": [
      "       sentiment                                            comment\n",
      "0  not nostalgia  He was a singer with a golden voice that I lov...\n",
      "1      nostalgia  The mist beautiful voice ever I listened to hi...\n",
      "2      nostalgia  I have most of Mr. Reeves songs.  Always love ...\n",
      "3  not nostalgia  30 day leave from 1st tour in Viet Nam to conv...\n",
      "4      nostalgia  listening to his songs reminds me of my mum wh...\n"
     ]
    }
   ],
   "source": [
    "import pandas as pd\n",
    "categories = ['not nostalgia', 'nostalgia']\n",
    "\n",
    "dataSet = pd.read_csv(\"Nostalgic_Sentiment_Analysis_of_YouTube_Comments_Data.csv\")\n",
    "\n",
    "print(dataSet.head()) # print top 5 lines"
   ]
  },
  {
   "cell_type": "markdown",
   "metadata": {},
   "source": [
    "### Check data information\n",
    "\n",
    "Try to isolate the target and data text for possibly furthur usage"
   ]
  },
  {
   "cell_type": "code",
   "execution_count": 35,
   "metadata": {},
   "outputs": [
    {
     "name": "stdout",
     "output_type": "stream",
     "text": [
      "Target:  ['not nostalgia', 'nostalgia', 'nostalgia', 'not nostalgia', 'nostalgia', 'nostalgia', 'nostalgia', 'nostalgia', 'not nostalgia', 'not nostalgia', 'not nostalgia', 'nostalgia', 'nostalgia', 'nostalgia', 'not nostalgia', 'not nostalgia', 'not nostalgia', 'nostalgia', 'nostalgia', 'nostalgia', 'nostalgia', 'nostalgia', 'not nostalgia', 'not nostalgia', 'not nostalgia', 'not nostalgia', 'nostalgia', 'nostalgia', 'nostalgia', 'nostalgia', 'nostalgia', 'nostalgia', 'nostalgia', 'not nostalgia', 'not nostalgia', 'not nostalgia', 'nostalgia', 'nostalgia', 'nostalgia', 'not nostalgia', 'nostalgia', 'nostalgia', 'not nostalgia', 'not nostalgia', 'nostalgia', 'not nostalgia', 'nostalgia', 'not nostalgia', 'nostalgia', 'nostalgia', 'nostalgia', 'not nostalgia', 'not nostalgia', 'not nostalgia', 'not nostalgia', 'nostalgia', 'nostalgia', 'nostalgia', 'not nostalgia', 'nostalgia', 'nostalgia', 'not nostalgia', 'not nostalgia', 'nostalgia', 'not nostalgia', 'not nostalgia', 'not nostalgia', 'not nostalgia', 'nostalgia', 'nostalgia', 'nostalgia', 'nostalgia', 'nostalgia', 'not nostalgia', 'nostalgia', 'not nostalgia', 'nostalgia', 'not nostalgia', 'not nostalgia', 'nostalgia', 'not nostalgia', 'nostalgia', 'not nostalgia', 'nostalgia', 'nostalgia', 'nostalgia', 'not nostalgia', 'not nostalgia', 'not nostalgia', 'not nostalgia', 'nostalgia', 'nostalgia', 'nostalgia', 'nostalgia', 'not nostalgia', 'not nostalgia', 'not nostalgia', 'nostalgia', 'not nostalgia', 'not nostalgia', 'nostalgia', 'not nostalgia', 'nostalgia', 'not nostalgia', 'nostalgia', 'not nostalgia', 'nostalgia', 'not nostalgia', 'not nostalgia', 'not nostalgia', 'not nostalgia', 'nostalgia', 'nostalgia', 'nostalgia', 'not nostalgia', 'nostalgia', 'not nostalgia', 'not nostalgia', 'not nostalgia', 'nostalgia', 'nostalgia', 'not nostalgia', 'nostalgia', 'not nostalgia', 'nostalgia', 'not nostalgia', 'not nostalgia', 'not nostalgia', 'not nostalgia', 'nostalgia', 'not nostalgia', 'nostalgia', 'not nostalgia', 'nostalgia', 'not nostalgia', 'not nostalgia', 'nostalgia', 'not nostalgia', 'not nostalgia', 'not nostalgia', 'not nostalgia', 'nostalgia', 'not nostalgia', 'not nostalgia', 'nostalgia', 'not nostalgia', 'nostalgia', 'nostalgia', 'nostalgia', 'nostalgia', 'nostalgia', 'not nostalgia', 'nostalgia', 'not nostalgia', 'not nostalgia', 'nostalgia', 'nostalgia', 'not nostalgia', 'not nostalgia', 'nostalgia', 'nostalgia', 'nostalgia', 'not nostalgia', 'not nostalgia', 'nostalgia', 'not nostalgia', 'nostalgia', 'nostalgia', 'not nostalgia', 'not nostalgia', 'nostalgia', 'not nostalgia', 'not nostalgia', 'not nostalgia', 'nostalgia', 'not nostalgia', 'not nostalgia', 'nostalgia', 'nostalgia', 'nostalgia', 'nostalgia', 'nostalgia', 'not nostalgia', 'nostalgia', 'not nostalgia', 'not nostalgia', 'not nostalgia', 'not nostalgia', 'nostalgia', 'nostalgia', 'nostalgia', 'not nostalgia', 'not nostalgia', 'not nostalgia', 'not nostalgia', 'not nostalgia', 'not nostalgia', 'not nostalgia', 'not nostalgia', 'nostalgia', 'not nostalgia', 'nostalgia', 'not nostalgia', 'not nostalgia', 'nostalgia', 'nostalgia', 'not nostalgia', 'not nostalgia', 'not nostalgia', 'not nostalgia', 'not nostalgia', 'not nostalgia', 'not nostalgia', 'not nostalgia', 'nostalgia', 'not nostalgia', 'not nostalgia', 'not nostalgia', 'not nostalgia', 'not nostalgia', 'nostalgia', 'nostalgia', 'nostalgia', 'nostalgia', 'not nostalgia', 'not nostalgia', 'not nostalgia', 'not nostalgia', 'nostalgia', 'not nostalgia', 'nostalgia', 'not nostalgia', 'not nostalgia', 'not nostalgia', 'nostalgia', 'nostalgia', 'not nostalgia', 'not nostalgia', 'not nostalgia', 'not nostalgia', 'nostalgia', 'not nostalgia', 'nostalgia', 'not nostalgia', 'nostalgia', 'nostalgia', 'nostalgia', 'nostalgia', 'not nostalgia', 'not nostalgia', 'nostalgia', 'nostalgia', 'not nostalgia', 'nostalgia', 'not nostalgia', 'not nostalgia', 'nostalgia', 'not nostalgia', 'not nostalgia', 'not nostalgia', 'not nostalgia', 'nostalgia', 'not nostalgia', 'not nostalgia', 'not nostalgia', 'not nostalgia', 'not nostalgia', 'not nostalgia', 'nostalgia', 'not nostalgia', 'not nostalgia', 'nostalgia', 'not nostalgia', 'nostalgia', 'nostalgia', 'nostalgia', 'nostalgia', 'nostalgia', 'not nostalgia', 'not nostalgia', 'nostalgia', 'not nostalgia', 'nostalgia', 'nostalgia', 'nostalgia', 'not nostalgia', 'not nostalgia', 'not nostalgia', 'not nostalgia', 'not nostalgia', 'nostalgia', 'not nostalgia', 'not nostalgia', 'nostalgia', 'nostalgia', 'not nostalgia', 'not nostalgia', 'nostalgia', 'not nostalgia', 'nostalgia', 'nostalgia', 'not nostalgia', 'nostalgia', 'not nostalgia', 'nostalgia', 'not nostalgia', 'nostalgia', 'nostalgia', 'nostalgia', 'nostalgia', 'nostalgia', 'nostalgia', 'not nostalgia', 'not nostalgia', 'nostalgia', 'nostalgia', 'not nostalgia', 'not nostalgia', 'nostalgia', 'nostalgia', 'nostalgia', 'not nostalgia', 'nostalgia', 'nostalgia', 'not nostalgia', 'not nostalgia', 'not nostalgia', 'nostalgia', 'not nostalgia', 'not nostalgia', 'not nostalgia', 'nostalgia', 'not nostalgia', 'not nostalgia', 'nostalgia', 'not nostalgia', 'not nostalgia', 'nostalgia', 'nostalgia', 'not nostalgia', 'nostalgia', 'nostalgia', 'nostalgia', 'nostalgia', 'not nostalgia', 'nostalgia', 'nostalgia', 'nostalgia', 'not nostalgia', 'not nostalgia', 'nostalgia', 'nostalgia', 'nostalgia', 'not nostalgia', 'nostalgia', 'nostalgia', 'not nostalgia', 'not nostalgia', 'not nostalgia', 'nostalgia', 'nostalgia', 'nostalgia', 'not nostalgia', 'not nostalgia', 'nostalgia', 'not nostalgia', 'nostalgia', 'nostalgia', 'not nostalgia', 'nostalgia', 'nostalgia', 'not nostalgia', 'not nostalgia', 'nostalgia', 'nostalgia', 'not nostalgia', 'not nostalgia', 'not nostalgia', 'nostalgia', 'nostalgia', 'nostalgia', 'nostalgia', 'nostalgia', 'nostalgia', 'nostalgia', 'nostalgia', 'not nostalgia', 'nostalgia', 'nostalgia', 'nostalgia', 'nostalgia', 'not nostalgia', 'nostalgia', 'nostalgia', 'nostalgia', 'nostalgia', 'nostalgia', 'nostalgia', 'not nostalgia', 'not nostalgia', 'nostalgia', 'nostalgia', 'not nostalgia', 'nostalgia', 'not nostalgia', 'not nostalgia', 'not nostalgia', 'not nostalgia', 'nostalgia', 'not nostalgia', 'nostalgia', 'not nostalgia', 'not nostalgia', 'nostalgia', 'nostalgia', 'not nostalgia', 'nostalgia', 'not nostalgia', 'not nostalgia', 'nostalgia', 'nostalgia', 'nostalgia', 'nostalgia', 'not nostalgia', 'not nostalgia', 'not nostalgia', 'not nostalgia', 'not nostalgia', 'nostalgia', 'not nostalgia', 'not nostalgia', 'not nostalgia', 'nostalgia', 'nostalgia', 'not nostalgia', 'nostalgia', 'nostalgia', 'nostalgia', 'not nostalgia', 'not nostalgia', 'not nostalgia', 'not nostalgia', 'not nostalgia', 'not nostalgia', 'not nostalgia', 'not nostalgia', 'not nostalgia', 'nostalgia', 'nostalgia', 'nostalgia', 'nostalgia', 'nostalgia', 'not nostalgia', 'nostalgia', 'nostalgia', 'nostalgia', 'nostalgia', 'nostalgia', 'not nostalgia', 'not nostalgia', 'not nostalgia', 'nostalgia', 'nostalgia', 'nostalgia', 'nostalgia', 'nostalgia', 'nostalgia', 'nostalgia', 'nostalgia', 'nostalgia', 'nostalgia', 'nostalgia', 'not nostalgia', 'not nostalgia', 'nostalgia', 'not nostalgia', 'not nostalgia', 'not nostalgia', 'nostalgia', 'not nostalgia', 'nostalgia', 'not nostalgia', 'not nostalgia', 'nostalgia', 'not nostalgia', 'not nostalgia', 'not nostalgia', 'not nostalgia', 'not nostalgia', 'nostalgia', 'nostalgia', 'not nostalgia', 'nostalgia', 'nostalgia', 'nostalgia', 'nostalgia', 'not nostalgia', 'not nostalgia', 'not nostalgia', 'nostalgia', 'nostalgia', 'not nostalgia', 'not nostalgia', 'not nostalgia', 'nostalgia', 'not nostalgia', 'not nostalgia', 'nostalgia', 'not nostalgia', 'not nostalgia', 'not nostalgia', 'not nostalgia', 'nostalgia', 'not nostalgia', 'nostalgia', 'not nostalgia', 'nostalgia', 'nostalgia', 'not nostalgia', 'nostalgia', 'not nostalgia', 'nostalgia', 'not nostalgia', 'not nostalgia', 'not nostalgia', 'nostalgia', 'not nostalgia', 'not nostalgia', 'not nostalgia', 'not nostalgia', 'not nostalgia', 'not nostalgia', 'nostalgia', 'not nostalgia', 'nostalgia', 'nostalgia', 'not nostalgia', 'not nostalgia', 'not nostalgia', 'not nostalgia', 'not nostalgia', 'not nostalgia', 'nostalgia', 'nostalgia', 'not nostalgia', 'not nostalgia', 'nostalgia', 'not nostalgia', 'nostalgia', 'nostalgia', 'not nostalgia', 'not nostalgia', 'nostalgia', 'nostalgia', 'not nostalgia', 'not nostalgia', 'nostalgia', 'nostalgia', 'not nostalgia', 'nostalgia', 'not nostalgia', 'not nostalgia', 'nostalgia', 'not nostalgia', 'not nostalgia', 'not nostalgia', 'not nostalgia', 'nostalgia', 'not nostalgia', 'not nostalgia', 'not nostalgia', 'not nostalgia', 'nostalgia', 'not nostalgia', 'not nostalgia', 'not nostalgia', 'nostalgia', 'nostalgia', 'nostalgia', 'nostalgia', 'nostalgia', 'not nostalgia', 'not nostalgia', 'nostalgia', 'nostalgia', 'nostalgia', 'nostalgia', 'nostalgia', 'nostalgia', 'nostalgia', 'nostalgia', 'nostalgia', 'nostalgia', 'nostalgia', 'not nostalgia', 'not nostalgia', 'not nostalgia', 'not nostalgia', 'not nostalgia', 'not nostalgia', 'not nostalgia', 'not nostalgia', 'not nostalgia', 'not nostalgia', 'not nostalgia', 'not nostalgia', 'not nostalgia', 'nostalgia', 'nostalgia', 'not nostalgia', 'not nostalgia', 'nostalgia', 'not nostalgia', 'nostalgia', 'not nostalgia', 'not nostalgia', 'nostalgia', 'not nostalgia', 'not nostalgia', 'not nostalgia', 'not nostalgia', 'nostalgia', 'nostalgia', 'nostalgia', 'nostalgia', 'not nostalgia', 'nostalgia', 'nostalgia', 'nostalgia', 'nostalgia', 'nostalgia', 'not nostalgia', 'not nostalgia', 'not nostalgia', 'nostalgia', 'nostalgia', 'not nostalgia', 'nostalgia', 'not nostalgia', 'not nostalgia', 'not nostalgia', 'not nostalgia', 'nostalgia', 'nostalgia', 'nostalgia', 'not nostalgia', 'nostalgia', 'nostalgia', 'not nostalgia', 'not nostalgia', 'nostalgia', 'not nostalgia', 'not nostalgia', 'not nostalgia', 'not nostalgia', 'nostalgia', 'nostalgia', 'nostalgia', 'not nostalgia', 'not nostalgia', 'not nostalgia', 'not nostalgia', 'not nostalgia', 'nostalgia', 'not nostalgia', 'nostalgia', 'not nostalgia', 'not nostalgia', 'nostalgia', 'not nostalgia', 'not nostalgia', 'nostalgia', 'nostalgia', 'not nostalgia', 'not nostalgia', 'nostalgia', 'nostalgia', 'nostalgia', 'not nostalgia', 'not nostalgia', 'not nostalgia', 'nostalgia', 'nostalgia', 'not nostalgia', 'not nostalgia', 'nostalgia', 'not nostalgia', 'nostalgia', 'nostalgia', 'nostalgia', 'nostalgia', 'not nostalgia', 'nostalgia', 'not nostalgia', 'not nostalgia', 'nostalgia', 'not nostalgia', 'not nostalgia', 'not nostalgia', 'not nostalgia', 'not nostalgia', 'nostalgia', 'nostalgia', 'nostalgia', 'nostalgia', 'not nostalgia', 'not nostalgia', 'not nostalgia', 'not nostalgia', 'nostalgia', 'nostalgia', 'nostalgia', 'not nostalgia', 'not nostalgia', 'not nostalgia', 'nostalgia', 'not nostalgia', 'not nostalgia', 'nostalgia', 'nostalgia', 'not nostalgia', 'nostalgia', 'nostalgia', 'nostalgia', 'not nostalgia', 'nostalgia', 'nostalgia', 'not nostalgia', 'nostalgia', 'not nostalgia', 'not nostalgia', 'not nostalgia', 'nostalgia', 'not nostalgia', 'not nostalgia', 'not nostalgia', 'not nostalgia', 'nostalgia', 'not nostalgia', 'not nostalgia', 'not nostalgia', 'not nostalgia', 'not nostalgia', 'not nostalgia', 'nostalgia', 'not nostalgia', 'nostalgia', 'not nostalgia', 'not nostalgia', 'nostalgia', 'nostalgia', 'not nostalgia', 'nostalgia', 'not nostalgia', 'not nostalgia', 'not nostalgia', 'not nostalgia', 'nostalgia', 'not nostalgia', 'not nostalgia', 'not nostalgia', 'not nostalgia', 'nostalgia', 'nostalgia', 'not nostalgia', 'nostalgia', 'not nostalgia', 'nostalgia', 'nostalgia', 'not nostalgia', 'nostalgia', 'nostalgia', 'nostalgia', 'not nostalgia', 'nostalgia', 'not nostalgia', 'nostalgia', 'nostalgia', 'not nostalgia', 'nostalgia', 'nostalgia', 'nostalgia', 'nostalgia', 'nostalgia', 'nostalgia', 'nostalgia', 'not nostalgia', 'not nostalgia', 'nostalgia', 'nostalgia', 'not nostalgia', 'nostalgia', 'nostalgia', 'nostalgia', 'nostalgia', 'not nostalgia', 'not nostalgia', 'nostalgia', 'nostalgia', 'not nostalgia', 'not nostalgia', 'not nostalgia', 'not nostalgia', 'not nostalgia', 'nostalgia', 'not nostalgia', 'nostalgia', 'nostalgia', 'nostalgia', 'not nostalgia', 'not nostalgia', 'not nostalgia', 'nostalgia', 'nostalgia', 'not nostalgia', 'not nostalgia', 'not nostalgia', 'nostalgia', 'not nostalgia', 'nostalgia', 'nostalgia', 'not nostalgia', 'not nostalgia', 'not nostalgia', 'nostalgia', 'not nostalgia', 'not nostalgia', 'nostalgia', 'nostalgia', 'not nostalgia', 'nostalgia', 'nostalgia', 'not nostalgia', 'not nostalgia', 'not nostalgia', 'not nostalgia', 'not nostalgia', 'not nostalgia', 'nostalgia', 'nostalgia', 'not nostalgia', 'nostalgia', 'nostalgia', 'not nostalgia', 'not nostalgia', 'nostalgia', 'nostalgia', 'not nostalgia', 'nostalgia', 'nostalgia', 'nostalgia', 'nostalgia', 'not nostalgia', 'not nostalgia', 'nostalgia', 'nostalgia', 'nostalgia', 'nostalgia', 'not nostalgia', 'nostalgia', 'nostalgia', 'not nostalgia', 'not nostalgia', 'not nostalgia', 'nostalgia', 'nostalgia', 'not nostalgia', 'nostalgia', 'nostalgia', 'not nostalgia', 'nostalgia', 'nostalgia', 'nostalgia', 'not nostalgia', 'not nostalgia', 'nostalgia', 'not nostalgia', 'not nostalgia', 'nostalgia', 'not nostalgia', 'not nostalgia', 'nostalgia', 'not nostalgia', 'nostalgia', 'nostalgia', 'nostalgia', 'nostalgia', 'nostalgia', 'not nostalgia', 'nostalgia', 'not nostalgia', 'nostalgia', 'nostalgia', 'not nostalgia', 'not nostalgia', 'nostalgia', 'nostalgia', 'not nostalgia', 'nostalgia', 'nostalgia', 'not nostalgia', 'nostalgia', 'not nostalgia', 'nostalgia', 'nostalgia', 'not nostalgia', 'nostalgia', 'not nostalgia', 'nostalgia', 'nostalgia', 'nostalgia', 'not nostalgia', 'nostalgia', 'nostalgia', 'not nostalgia', 'nostalgia', 'nostalgia', 'nostalgia', 'nostalgia', 'nostalgia', 'not nostalgia', 'nostalgia', 'nostalgia', 'nostalgia', 'nostalgia', 'nostalgia', 'nostalgia', 'nostalgia', 'nostalgia', 'nostalgia', 'nostalgia', 'nostalgia', 'nostalgia', 'nostalgia', 'nostalgia', 'nostalgia', 'not nostalgia', 'nostalgia', 'nostalgia', 'nostalgia', 'nostalgia', 'nostalgia', 'nostalgia', 'nostalgia', 'nostalgia', 'nostalgia', 'nostalgia', 'nostalgia', 'nostalgia', 'nostalgia', 'not nostalgia', 'nostalgia', 'nostalgia', 'nostalgia', 'nostalgia', 'not nostalgia', 'not nostalgia', 'nostalgia', 'nostalgia', 'nostalgia', 'not nostalgia', 'nostalgia', 'not nostalgia', 'nostalgia', 'nostalgia', 'not nostalgia', 'not nostalgia', 'nostalgia', 'nostalgia', 'not nostalgia', 'nostalgia', 'nostalgia', 'nostalgia', 'not nostalgia', 'not nostalgia', 'not nostalgia', 'not nostalgia', 'nostalgia', 'nostalgia', 'nostalgia', 'nostalgia', 'nostalgia', 'nostalgia', 'nostalgia', 'nostalgia', 'not nostalgia', 'not nostalgia', 'not nostalgia', 'nostalgia', 'nostalgia', 'not nostalgia', 'not nostalgia', 'not nostalgia', 'not nostalgia', 'not nostalgia', 'nostalgia', 'not nostalgia', 'not nostalgia', 'nostalgia', 'not nostalgia', 'not nostalgia', 'nostalgia', 'not nostalgia', 'nostalgia', 'not nostalgia', 'not nostalgia', 'nostalgia', 'nostalgia', 'nostalgia', 'nostalgia', 'not nostalgia', 'not nostalgia', 'nostalgia', 'not nostalgia', 'not nostalgia', 'nostalgia', 'nostalgia', 'not nostalgia', 'not nostalgia', 'not nostalgia', 'nostalgia', 'not nostalgia', 'not nostalgia', 'nostalgia', 'nostalgia', 'not nostalgia', 'nostalgia', 'not nostalgia', 'not nostalgia', 'not nostalgia', 'nostalgia', 'not nostalgia', 'nostalgia', 'not nostalgia', 'nostalgia', 'not nostalgia', 'not nostalgia', 'not nostalgia', 'not nostalgia', 'not nostalgia', 'nostalgia', 'nostalgia', 'nostalgia', 'nostalgia', 'not nostalgia', 'nostalgia', 'nostalgia', 'nostalgia', 'not nostalgia', 'not nostalgia', 'not nostalgia', 'nostalgia', 'nostalgia', 'not nostalgia', 'not nostalgia', 'nostalgia', 'nostalgia', 'not nostalgia', 'not nostalgia', 'nostalgia', 'nostalgia', 'nostalgia', 'nostalgia', 'nostalgia', 'not nostalgia', 'nostalgia', 'not nostalgia', 'not nostalgia', 'not nostalgia', 'nostalgia', 'nostalgia', 'nostalgia', 'not nostalgia', 'not nostalgia', 'nostalgia', 'nostalgia', 'not nostalgia', 'not nostalgia', 'nostalgia', 'nostalgia', 'nostalgia', 'nostalgia', 'not nostalgia', 'nostalgia', 'nostalgia', 'nostalgia', 'not nostalgia', 'not nostalgia', 'nostalgia', 'not nostalgia', 'nostalgia', 'not nostalgia', 'nostalgia', 'not nostalgia', 'nostalgia', 'nostalgia', 'nostalgia', 'not nostalgia', 'nostalgia', 'not nostalgia', 'not nostalgia', 'not nostalgia', 'nostalgia', 'not nostalgia', 'not nostalgia', 'nostalgia', 'nostalgia', 'nostalgia', 'not nostalgia', 'not nostalgia', 'not nostalgia', 'not nostalgia', 'nostalgia', 'not nostalgia', 'not nostalgia', 'not nostalgia', 'not nostalgia', 'nostalgia', 'nostalgia', 'not nostalgia', 'not nostalgia', 'not nostalgia', 'not nostalgia', 'not nostalgia', 'nostalgia', 'nostalgia', 'nostalgia', 'nostalgia', 'nostalgia', 'not nostalgia', 'nostalgia', 'nostalgia', 'not nostalgia', 'not nostalgia', 'nostalgia', 'nostalgia', 'nostalgia', 'not nostalgia', 'nostalgia', 'nostalgia', 'not nostalgia', 'nostalgia', 'nostalgia', 'not nostalgia', 'nostalgia', 'nostalgia', 'nostalgia', 'nostalgia', 'not nostalgia', 'not nostalgia', 'not nostalgia', 'not nostalgia', 'nostalgia', 'not nostalgia', 'not nostalgia', 'nostalgia', 'not nostalgia', 'not nostalgia', 'not nostalgia', 'not nostalgia', 'not nostalgia', 'nostalgia', 'not nostalgia', 'nostalgia', 'not nostalgia', 'nostalgia', 'not nostalgia', 'not nostalgia', 'nostalgia', 'nostalgia', 'not nostalgia', 'nostalgia', 'nostalgia', 'not nostalgia', 'not nostalgia', 'nostalgia', 'not nostalgia', 'not nostalgia', 'not nostalgia', 'nostalgia', 'not nostalgia', 'nostalgia', 'nostalgia', 'nostalgia', 'not nostalgia', 'not nostalgia', 'not nostalgia', 'not nostalgia', 'not nostalgia', 'nostalgia', 'nostalgia', 'nostalgia', 'nostalgia', 'not nostalgia', 'not nostalgia', 'not nostalgia', 'not nostalgia', 'nostalgia', 'nostalgia', 'not nostalgia', 'not nostalgia', 'nostalgia', 'not nostalgia', 'not nostalgia', 'nostalgia', 'not nostalgia', 'not nostalgia', 'not nostalgia', 'nostalgia', 'nostalgia', 'not nostalgia', 'not nostalgia', 'not nostalgia', 'nostalgia', 'not nostalgia', 'not nostalgia', 'not nostalgia', 'nostalgia', 'not nostalgia', 'nostalgia', 'not nostalgia', 'nostalgia', 'nostalgia', 'not nostalgia', 'not nostalgia', 'nostalgia', 'not nostalgia', 'not nostalgia', 'not nostalgia', 'not nostalgia', 'not nostalgia', 'nostalgia', 'nostalgia', 'not nostalgia', 'not nostalgia', 'not nostalgia', 'not nostalgia', 'nostalgia', 'nostalgia', 'not nostalgia', 'nostalgia', 'nostalgia', 'not nostalgia', 'not nostalgia', 'nostalgia', 'not nostalgia', 'not nostalgia', 'not nostalgia', 'nostalgia', 'nostalgia', 'not nostalgia', 'nostalgia', 'not nostalgia', 'nostalgia', 'not nostalgia', 'not nostalgia', 'nostalgia', 'nostalgia', 'not nostalgia', 'nostalgia', 'not nostalgia', 'nostalgia', 'nostalgia', 'not nostalgia', 'not nostalgia', 'not nostalgia', 'nostalgia', 'nostalgia', 'nostalgia', 'not nostalgia', 'nostalgia', 'not nostalgia', 'not nostalgia', 'not nostalgia', 'nostalgia', 'nostalgia', 'nostalgia', 'nostalgia', 'nostalgia', 'nostalgia', 'not nostalgia', 'nostalgia', 'nostalgia', 'not nostalgia', 'not nostalgia', 'nostalgia', 'nostalgia', 'not nostalgia', 'not nostalgia', 'nostalgia', 'nostalgia', 'not nostalgia', 'not nostalgia', 'nostalgia', 'nostalgia', 'not nostalgia', 'not nostalgia', 'nostalgia', 'not nostalgia', 'not nostalgia', 'nostalgia', 'nostalgia', 'nostalgia', 'not nostalgia', 'nostalgia', 'nostalgia', 'nostalgia', 'nostalgia', 'nostalgia', 'not nostalgia', 'not nostalgia', 'nostalgia', 'not nostalgia', 'nostalgia', 'not nostalgia', 'nostalgia', 'nostalgia', 'not nostalgia', 'not nostalgia', 'nostalgia', 'not nostalgia', 'not nostalgia', 'not nostalgia', 'not nostalgia', 'not nostalgia', 'nostalgia', 'not nostalgia', 'nostalgia', 'not nostalgia', 'not nostalgia', 'nostalgia', 'not nostalgia', 'nostalgia', 'nostalgia', 'nostalgia', 'nostalgia', 'nostalgia', 'nostalgia', 'not nostalgia', 'nostalgia', 'not nostalgia', 'nostalgia', 'not nostalgia', 'nostalgia', 'not nostalgia', 'not nostalgia', 'not nostalgia', 'nostalgia', 'nostalgia', 'not nostalgia', 'not nostalgia', 'not nostalgia', 'nostalgia', 'nostalgia', 'not nostalgia', 'nostalgia', 'not nostalgia', 'not nostalgia', 'not nostalgia', 'nostalgia', 'nostalgia', 'not nostalgia', 'nostalgia', 'not nostalgia', 'not nostalgia', 'not nostalgia', 'nostalgia', 'not nostalgia', 'not nostalgia', 'nostalgia', 'not nostalgia', 'nostalgia', 'not nostalgia', 'not nostalgia', 'not nostalgia', 'nostalgia', 'not nostalgia', 'not nostalgia', 'not nostalgia', 'not nostalgia', 'not nostalgia', 'nostalgia', 'nostalgia', 'not nostalgia', 'nostalgia', 'nostalgia', 'not nostalgia', 'not nostalgia', 'nostalgia', 'nostalgia', 'nostalgia', 'nostalgia', 'nostalgia', 'not nostalgia', 'not nostalgia', 'not nostalgia', 'nostalgia', 'nostalgia', 'nostalgia', 'not nostalgia', 'nostalgia', 'not nostalgia', 'nostalgia', 'nostalgia', 'nostalgia', 'nostalgia', 'nostalgia', 'nostalgia', 'nostalgia', 'nostalgia', 'nostalgia', 'nostalgia', 'nostalgia', 'not nostalgia', 'not nostalgia', 'not nostalgia', 'not nostalgia', 'not nostalgia', 'not nostalgia', 'not nostalgia', 'nostalgia', 'nostalgia', 'nostalgia', 'nostalgia', 'not nostalgia', 'nostalgia', 'not nostalgia', 'nostalgia', 'nostalgia', 'nostalgia', 'nostalgia', 'nostalgia', 'nostalgia', 'nostalgia', 'not nostalgia', 'not nostalgia', 'not nostalgia', 'nostalgia', 'not nostalgia', 'nostalgia', 'nostalgia', 'nostalgia', 'nostalgia', 'nostalgia', 'not nostalgia', 'not nostalgia', 'not nostalgia', 'not nostalgia', 'nostalgia', 'not nostalgia', 'nostalgia', 'nostalgia', 'not nostalgia', 'nostalgia', 'not nostalgia', 'nostalgia', 'nostalgia', 'nostalgia', 'not nostalgia', 'nostalgia', 'not nostalgia', 'not nostalgia', 'nostalgia', 'nostalgia', 'not nostalgia', 'not nostalgia', 'nostalgia', 'nostalgia', 'not nostalgia', 'not nostalgia', 'not nostalgia', 'nostalgia', 'not nostalgia', 'nostalgia', 'nostalgia', 'not nostalgia', 'not nostalgia', 'not nostalgia', 'nostalgia', 'not nostalgia', 'nostalgia', 'not nostalgia', 'nostalgia', 'not nostalgia', 'nostalgia', 'not nostalgia', 'not nostalgia', 'nostalgia', 'nostalgia', 'not nostalgia', 'not nostalgia', 'nostalgia', 'nostalgia', 'not nostalgia', 'not nostalgia', 'not nostalgia', 'not nostalgia', 'not nostalgia', 'nostalgia', 'nostalgia']\n",
      "Data:  ['He was a singer with a golden voice that I love to hear all the time. I was his great fan at the age of 16years in those days and still now. Although we have many singers now, but, I can vouch for Jim Reeves all the time. You feel relaxed, emotional and loving. Thank you Lord for his life.', 'The mist beautiful voice ever I listened to him when I was a kid and still love his singing Never forgotten The voice of an angel']\n"
     ]
    }
   ],
   "source": [
    "target = dataSet['sentiment'].tolist()\n",
    "target_df = pd.DataFrame(target, columns=['sentiment'])\n",
    "data = dataSet['comment'].tolist()\n",
    "data_df = pd.DataFrame(data, columns=['comment'])\n",
    "\n",
    "print(\"Target: \", target)\n",
    "print(\"Data: \", data[0:2])"
   ]
  },
  {
   "cell_type": "code",
   "execution_count": 36,
   "metadata": {},
   "outputs": [
    {
     "name": "stdout",
     "output_type": "stream",
     "text": [
      "He was a singer with a golden voice that I love to hear all the time. I was his great fan at the age of 16years in those days and still now. Although we have many singers now, but, I can vouch for Jim Reeves all the time. You feel relaxed, emotional and loving. Thank you Lord for his life.\n",
      "The mist beautiful voice ever I listened to him when I was a kid and still love his singing Never forgotten The voice of an angel\n",
      "I have most of Mr. Reeves songs.  Always love his smooth voice, so comforting and sounds like the people I grew up around.  They were so gentle and sweet, but I had to leave my little town to find a job at age 17.  I graduated early.  I never forgot how great it was to grow up with simple people who had no pretensions -- just loving and gentle, like I think Jesus is.\n"
     ]
    }
   ],
   "source": [
    "for text in data[0:3]:\n",
    "    print(text)"
   ]
  },
  {
   "cell_type": "code",
   "execution_count": 37,
   "metadata": {},
   "outputs": [
    {
     "name": "stdout",
     "output_type": "stream",
     "text": [
      "He was a singer with a golden voice that I love to hear all the time. I was his great fan at the age of 16years in those days and still now. Although we have many singers now, but, I can vouch for Jim Reeves all the time. You feel relaxed, emotional and loving. Thank you Lord for his life.\n",
      "The mist beautiful voice ever I listened to him when I was a kid and still love his singing Never forgotten The voice of an angel\n"
     ]
    }
   ],
   "source": [
    "import helpers.data_mining_helpers as dmh\n",
    "\n",
    "for t in dataSet[\"comment\"][:2]:\n",
    "    print(t)"
   ]
  },
  {
   "cell_type": "code",
   "execution_count": 38,
   "metadata": {},
   "outputs": [
    {
     "data": {
      "text/html": [
       "<div>\n",
       "<style scoped>\n",
       "    .dataframe tbody tr th:only-of-type {\n",
       "        vertical-align: middle;\n",
       "    }\n",
       "\n",
       "    .dataframe tbody tr th {\n",
       "        vertical-align: top;\n",
       "    }\n",
       "\n",
       "    .dataframe thead th {\n",
       "        text-align: right;\n",
       "    }\n",
       "</style>\n",
       "<table border=\"1\" class=\"dataframe\">\n",
       "  <thead>\n",
       "    <tr style=\"text-align: right;\">\n",
       "      <th></th>\n",
       "      <th>sentiment</th>\n",
       "      <th>comment</th>\n",
       "    </tr>\n",
       "  </thead>\n",
       "  <tbody>\n",
       "    <tr>\n",
       "      <th>0</th>\n",
       "      <td>not nostalgia</td>\n",
       "      <td>He was a singer with a golden voice that I lov...</td>\n",
       "    </tr>\n",
       "    <tr>\n",
       "      <th>1</th>\n",
       "      <td>nostalgia</td>\n",
       "      <td>The mist beautiful voice ever I listened to hi...</td>\n",
       "    </tr>\n",
       "    <tr>\n",
       "      <th>2</th>\n",
       "      <td>nostalgia</td>\n",
       "      <td>I have most of Mr. Reeves songs.  Always love ...</td>\n",
       "    </tr>\n",
       "    <tr>\n",
       "      <th>3</th>\n",
       "      <td>not nostalgia</td>\n",
       "      <td>30 day leave from 1st tour in Viet Nam to conv...</td>\n",
       "    </tr>\n",
       "    <tr>\n",
       "      <th>4</th>\n",
       "      <td>nostalgia</td>\n",
       "      <td>listening to his songs reminds me of my mum wh...</td>\n",
       "    </tr>\n",
       "    <tr>\n",
       "      <th>5</th>\n",
       "      <td>nostalgia</td>\n",
       "      <td>Every time I heard this song as a child, I use...</td>\n",
       "    </tr>\n",
       "    <tr>\n",
       "      <th>6</th>\n",
       "      <td>nostalgia</td>\n",
       "      <td>My dad loved listening to Jim Reeves, when I w...</td>\n",
       "    </tr>\n",
       "    <tr>\n",
       "      <th>7</th>\n",
       "      <td>nostalgia</td>\n",
       "      <td>i HAVE ALSO LISTENED TO Jim Reeves since child...</td>\n",
       "    </tr>\n",
       "    <tr>\n",
       "      <th>8</th>\n",
       "      <td>not nostalgia</td>\n",
       "      <td>Wherever you  are you always in my heart</td>\n",
       "    </tr>\n",
       "    <tr>\n",
       "      <th>9</th>\n",
       "      <td>not nostalgia</td>\n",
       "      <td>Elvis will always be number one no one can com...</td>\n",
       "    </tr>\n",
       "  </tbody>\n",
       "</table>\n",
       "</div>"
      ],
      "text/plain": [
       "       sentiment                                            comment\n",
       "0  not nostalgia  He was a singer with a golden voice that I lov...\n",
       "1      nostalgia  The mist beautiful voice ever I listened to hi...\n",
       "2      nostalgia  I have most of Mr. Reeves songs.  Always love ...\n",
       "3  not nostalgia  30 day leave from 1st tour in Viet Nam to conv...\n",
       "4      nostalgia  listening to his songs reminds me of my mum wh...\n",
       "5      nostalgia  Every time I heard this song as a child, I use...\n",
       "6      nostalgia  My dad loved listening to Jim Reeves, when I w...\n",
       "7      nostalgia  i HAVE ALSO LISTENED TO Jim Reeves since child...\n",
       "8  not nostalgia           Wherever you  are you always in my heart\n",
       "9  not nostalgia  Elvis will always be number one no one can com..."
      ]
     },
     "execution_count": 38,
     "metadata": {},
     "output_type": "execute_result"
    }
   ],
   "source": [
    "dataSet[0:10]"
   ]
  },
  {
   "cell_type": "code",
   "execution_count": 39,
   "metadata": {},
   "outputs": [
    {
     "name": "stdout",
     "output_type": "stream",
     "text": [
      "          sentiment                                            comment\n",
      "759   not nostalgia  wow...great interpretation of the song...this ...\n",
      "506   not nostalgia  Is there a place called mockingbird hill it wo...\n",
      "1385      nostalgia  I had the audio cassette as a child. First rap...\n",
      "1429      nostalgia  2019 but the songs feels so fresh ,so many won...\n",
      "569   not nostalgia  Where can I download this song to put on my cell?\n",
      "602   not nostalgia  One of the few cases where lyrics in a new lan...\n",
      "258   not nostalgia  Maybe the world has some hope.  I'm glad to he...\n",
      "1204      nostalgia  Popular, lot of air play the summer before my ...\n",
      "3     not nostalgia  30 day leave from 1st tour in Viet Nam to conv...\n",
      "1461  not nostalgia  do you mean to make me cry...am i just another...\n"
     ]
    }
   ],
   "source": [
    "# Sampling\n",
    "sampled = dataSet.sample(n = 10)\n",
    "print(sampled)"
   ]
  },
  {
   "cell_type": "markdown",
   "metadata": {},
   "source": [
    "### Data Mining Section (Pandas)"
   ]
  },
  {
   "cell_type": "code",
   "execution_count": 40,
   "metadata": {},
   "outputs": [
    {
     "data": {
      "text/html": [
       "<div>\n",
       "<style scoped>\n",
       "    .dataframe tbody tr th:only-of-type {\n",
       "        vertical-align: middle;\n",
       "    }\n",
       "\n",
       "    .dataframe tbody tr th {\n",
       "        vertical-align: top;\n",
       "    }\n",
       "\n",
       "    .dataframe thead th {\n",
       "        text-align: right;\n",
       "    }\n",
       "</style>\n",
       "<table border=\"1\" class=\"dataframe\">\n",
       "  <thead>\n",
       "    <tr style=\"text-align: right;\">\n",
       "      <th></th>\n",
       "      <th>sentiment</th>\n",
       "      <th>comment</th>\n",
       "    </tr>\n",
       "  </thead>\n",
       "  <tbody>\n",
       "    <tr>\n",
       "      <th>0</th>\n",
       "      <td>False</td>\n",
       "      <td>False</td>\n",
       "    </tr>\n",
       "    <tr>\n",
       "      <th>1</th>\n",
       "      <td>False</td>\n",
       "      <td>False</td>\n",
       "    </tr>\n",
       "    <tr>\n",
       "      <th>2</th>\n",
       "      <td>False</td>\n",
       "      <td>False</td>\n",
       "    </tr>\n",
       "    <tr>\n",
       "      <th>3</th>\n",
       "      <td>False</td>\n",
       "      <td>False</td>\n",
       "    </tr>\n",
       "    <tr>\n",
       "      <th>4</th>\n",
       "      <td>False</td>\n",
       "      <td>False</td>\n",
       "    </tr>\n",
       "    <tr>\n",
       "      <th>...</th>\n",
       "      <td>...</td>\n",
       "      <td>...</td>\n",
       "    </tr>\n",
       "    <tr>\n",
       "      <th>1495</th>\n",
       "      <td>False</td>\n",
       "      <td>False</td>\n",
       "    </tr>\n",
       "    <tr>\n",
       "      <th>1496</th>\n",
       "      <td>False</td>\n",
       "      <td>False</td>\n",
       "    </tr>\n",
       "    <tr>\n",
       "      <th>1497</th>\n",
       "      <td>False</td>\n",
       "      <td>False</td>\n",
       "    </tr>\n",
       "    <tr>\n",
       "      <th>1498</th>\n",
       "      <td>False</td>\n",
       "      <td>False</td>\n",
       "    </tr>\n",
       "    <tr>\n",
       "      <th>1499</th>\n",
       "      <td>False</td>\n",
       "      <td>False</td>\n",
       "    </tr>\n",
       "  </tbody>\n",
       "</table>\n",
       "<p>1500 rows × 2 columns</p>\n",
       "</div>"
      ],
      "text/plain": [
       "      sentiment  comment\n",
       "0         False    False\n",
       "1         False    False\n",
       "2         False    False\n",
       "3         False    False\n",
       "4         False    False\n",
       "...         ...      ...\n",
       "1495      False    False\n",
       "1496      False    False\n",
       "1497      False    False\n",
       "1498      False    False\n",
       "1499      False    False\n",
       "\n",
       "[1500 rows x 2 columns]"
      ]
     },
     "execution_count": 40,
     "metadata": {},
     "output_type": "execute_result"
    }
   ],
   "source": [
    "# check null\n",
    "dataSet.isnull()"
   ]
  },
  {
   "cell_type": "code",
   "execution_count": 41,
   "metadata": {},
   "outputs": [
    {
     "data": {
      "text/html": [
       "<div>\n",
       "<style scoped>\n",
       "    .dataframe tbody tr th:only-of-type {\n",
       "        vertical-align: middle;\n",
       "    }\n",
       "\n",
       "    .dataframe tbody tr th {\n",
       "        vertical-align: top;\n",
       "    }\n",
       "\n",
       "    .dataframe thead th {\n",
       "        text-align: right;\n",
       "    }\n",
       "</style>\n",
       "<table border=\"1\" class=\"dataframe\">\n",
       "  <thead>\n",
       "    <tr style=\"text-align: right;\">\n",
       "      <th></th>\n",
       "      <th>sentiment</th>\n",
       "      <th>comment</th>\n",
       "    </tr>\n",
       "  </thead>\n",
       "  <tbody>\n",
       "    <tr>\n",
       "      <th>0</th>\n",
       "      <td>The amoung of missing records is:</td>\n",
       "      <td>The amoung of missing records is:</td>\n",
       "    </tr>\n",
       "    <tr>\n",
       "      <th>1</th>\n",
       "      <td>0</td>\n",
       "      <td>0</td>\n",
       "    </tr>\n",
       "  </tbody>\n",
       "</table>\n",
       "</div>"
      ],
      "text/plain": [
       "                            sentiment                             comment\n",
       "0  The amoung of missing records is:   The amoung of missing records is: \n",
       "1                                   0                                   0"
      ]
     },
     "execution_count": 41,
     "metadata": {},
     "output_type": "execute_result"
    }
   ],
   "source": [
    "dataSet.isnull().apply(lambda x: dmh.check_missing_values(x))"
   ]
  },
  {
   "cell_type": "code",
   "execution_count": 42,
   "metadata": {},
   "outputs": [
    {
     "data": {
      "text/plain": [
       "1"
      ]
     },
     "execution_count": 42,
     "metadata": {},
     "output_type": "execute_result"
    }
   ],
   "source": [
    "sum(dataSet.duplicated())"
   ]
  },
  {
   "cell_type": "markdown",
   "metadata": {},
   "source": [
    "there is one duplicated data, now I need to eliminate that data\n",
    "\n",
    "(Keep the first appeared data, delete the second one)"
   ]
  },
  {
   "cell_type": "code",
   "execution_count": 43,
   "metadata": {},
   "outputs": [],
   "source": [
    "dataSet.drop_duplicates(keep='first', inplace=True)"
   ]
  },
  {
   "cell_type": "code",
   "execution_count": 44,
   "metadata": {},
   "outputs": [
    {
     "data": {
      "text/plain": [
       "1499"
      ]
     },
     "execution_count": 44,
     "metadata": {},
     "output_type": "execute_result"
    }
   ],
   "source": [
    "len(dataSet)"
   ]
  }
 ],
 "metadata": {
  "kernelspec": {
   "display_name": "Python 3",
   "language": "python",
   "name": "python3"
  },
  "language_info": {
   "codemirror_mode": {
    "name": "ipython",
    "version": 3
   },
   "file_extension": ".py",
   "mimetype": "text/x-python",
   "name": "python",
   "nbconvert_exporter": "python",
   "pygments_lexer": "ipython3",
   "version": "3.11.9"
  }
 },
 "nbformat": 4,
 "nbformat_minor": 2
}
